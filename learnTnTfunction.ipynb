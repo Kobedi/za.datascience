{
  "nbformat": 4,
  "nbformat_minor": 0,
  "metadata": {
    "colab": {
      "name": "learnTnTfunction.ipynb",
      "provenance": [],
      "authorship_tag": "ABX9TyO+VtWIOKBctTOrnwkDa3s1",
      "include_colab_link": true
    },
    "kernelspec": {
      "name": "python3",
      "display_name": "Python 3"
    }
  },
  "cells": [
    {
      "cell_type": "markdown",
      "metadata": {
        "id": "view-in-github",
        "colab_type": "text"
      },
      "source": [
        "<a href=\"https://colab.research.google.com/github/Kobedi/za.datascience/blob/master/learnTnTfunction.ipynb\" target=\"_parent\"><img src=\"https://colab.research.google.com/assets/colab-badge.svg\" alt=\"Open In Colab\"/></a>"
      ]
    },
    {
      "cell_type": "code",
      "metadata": {
        "id": "1QA6TPSKIgpw",
        "colab_type": "code",
        "colab": {
          "base_uri": "https://localhost:8080/",
          "height": 118
        },
        "outputId": "e22c0608-fbe6-42e8-aa78-3002fe76036b"
      },
      "source": [
        "import numpy as np\n",
        "#import sklearn.cross_validation as cross_validation\n",
        "import sklearn.model_selection as model_selection\n",
        "from sklearn.model_selection import KFold\n",
        "\n",
        "X = list(range(20))\n",
        "print(X)\n",
        "\n",
        "y = [x*x for x in X]\n",
        "print(y)\n",
        "\n",
        "#Now lets do the train and spliting. \n",
        "X_train,X_test, y_train,y_test = model_selection.train_test_split(X,y,train_size=0.75, shuffle=False)\n",
        "\n",
        "print(\"X train \", X_train)\n",
        "print(\"Y train \", y_train)\n",
        "print(\"X test \", X_test)\n",
        "print(\"Y test \", y_test)"
      ],
      "execution_count": 6,
      "outputs": [
        {
          "output_type": "stream",
          "text": [
            "[0, 1, 2, 3, 4, 5, 6, 7, 8, 9, 10, 11, 12, 13, 14, 15, 16, 17, 18, 19]\n",
            "[0, 1, 4, 9, 16, 25, 36, 49, 64, 81, 100, 121, 144, 169, 196, 225, 256, 289, 324, 361]\n",
            "X train  [0, 1, 2, 3, 4, 5, 6, 7, 8, 9, 10, 11, 12, 13, 14]\n",
            "Y train  [0, 1, 4, 9, 16, 25, 36, 49, 64, 81, 100, 121, 144, 169, 196]\n",
            "X test  [15, 16, 17, 18, 19]\n",
            "Y test  [225, 256, 289, 324, 361]\n"
          ],
          "name": "stdout"
        }
      ]
    }
  ]
}